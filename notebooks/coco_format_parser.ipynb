{
 "cells": [
  {
   "cell_type": "code",
   "execution_count": 1,
   "metadata": {},
   "outputs": [],
   "source": [
    "# IMPORTS\n",
    "# Native\n",
    "import os\n",
    "import pickle\n",
    "from datetime import date\n",
    "\n",
    "# 3th party\n",
    "import numpy as np\n",
    "import cv2\n",
    "from sklearn.model_selection import train_test_split\n",
    "from progressbar import progressbar\n",
    "import os.path as osp\n",
    "import mmcv"
   ]
  },
  {
   "cell_type": "code",
   "execution_count": 2,
   "metadata": {},
   "outputs": [],
   "source": [
    "# General setting\n",
    "today = date.today()\n",
    "today = today.strftime('%Y_%m_%d')\n",
    "\n",
    "\n",
    "# Directory settings\n",
    "origin_dir = \"../data/tracked_fish_3_camera_angles\"\n",
    "destination_dir = f\"../data/{today}_coco_select_vids_data_change\"\n",
    "video_dir = \"tracking_vids\"\n",
    "label_dir = \"h5_tracking_files\"\n",
    "camera_angles = [\"A\",\"B\",\"C\"]\n",
    "\n",
    "# Predator = 0\n",
    "# Prey = 1\n",
    "#classes = [\"0\", \"1\"]\n",
    "\n",
    "# annotation setting\n",
    "radius = 50\n",
    "\n",
    "selected_vids = [\"131\", \"144\", \"148\", \"160\", \"204\", \"238\", \"242\", \"243\", \"252\", \"283\", \"297\", \"306\", \"325\", \"343\", \"373\", \"400\", \"413\", \"417\", \"419\", \"447\", \"449\", \"455\", \"456\", \"463\"]"
   ]
  },
  {
   "cell_type": "code",
   "execution_count": 3,
   "metadata": {},
   "outputs": [
    {
     "name": "stdout",
     "output_type": "stream",
     "text": [
      "['131', '144', '148', '160', '204', '238', '242', '243', '252', '283', '297', '306', '325', '343', '373', '400', '413', '417', '419', '447', '449', '455', '456', '463']\n",
      "['204', '283', '447', '325', '455', '297', '456', '417', '238', '306', '413', '144', '463', '400', '242']\n",
      "['148', '252', '243', '131']\n",
      "['343', '419', '160', '373', '449']\n"
     ]
    }
   ],
   "source": [
    "vid_list = sorted(os.listdir(origin_dir))\n",
    "vid_list = selected_vids\n",
    "\n",
    "print(vid_list)\n",
    "train, test = train_test_split(vid_list, test_size=0.2, random_state=1)\n",
    "train, val = train_test_split(train, test_size=0.2, random_state=1)\n",
    "\n",
    "print(train)\n",
    "print(val)\n",
    "print(test)\n"
   ]
  },
  {
   "cell_type": "code",
   "execution_count": 4,
   "metadata": {},
   "outputs": [],
   "source": [
    "# Loop over all subdir\n",
    "def convert_fish_tracking_to_coco(split, data_dir, destination_dir, out_file):\n",
    "    dest_img_path = osp.join(destination_dir, \"images\")\n",
    "    dest_label_path = osp.join(destination_dir, \"labels\")\n",
    "    out_file = osp.join(destination_dir, out_file)\n",
    "    # Create directories if not exists\n",
    "    if not os.path.exists(destination_dir):\n",
    "        os.makedirs(destination_dir)\n",
    "        os.makedirs(dest_img_path)\n",
    "        os.makedirs(dest_label_path)\n",
    "\n",
    "\n",
    "    annotations = []\n",
    "    images = []\n",
    "    obj_count = 0\n",
    "    # osp.join(data_dir, split)\n",
    "    for d in progressbar(sorted(split)):\n",
    "        # print(d)\n",
    "        # print(data_dir)\n",
    "        sub_dir = osp.join(data_dir, d)\n",
    "        video_path = osp.join(sub_dir, video_dir)\n",
    "        annotation_path = osp.join(sub_dir, label_dir)\n",
    "    \n",
    "        for angle in camera_angles:\n",
    "            annotation_file = osp.join(annotation_path, f\"{d}Corr{angle}.pkl\")\n",
    "            annotation_dict = pickle.load(open(annotation_file, \"rb\"))\n",
    "\n",
    "            # Load video\n",
    "            video_file = os.path.join(video_path, f\"{d}_{angle}.mp4\")\n",
    "            cap = cv2.VideoCapture(video_file)\n",
    "\n",
    "            i = 0\n",
    "            for x,y in zip(annotation_dict[\"0\"][\"X\"],annotation_dict[\"0\"][\"Y\"]):\n",
    "            \n",
    "                ret, frame = cap.read()\n",
    "\n",
    "                if np.isnan(x) or np.isnan(y):\n",
    "                    continue\n",
    "                \n",
    "                x_min = int(x) - radius\n",
    "                y_min = int(y) - radius\n",
    "                x_max = int(x) + radius\n",
    "                y_max = int(y) + radius\n",
    "\n",
    "                # Get frame size\n",
    "                width = int(cap.get(cv2.CAP_PROP_FRAME_WIDTH ))\n",
    "                height = int(cap.get(cv2.CAP_PROP_FRAME_HEIGHT ))\n",
    "                # fps =  cap.get(cv2.CAP_PROP_FPS)\n",
    "\n",
    "                image = frame\n",
    "\n",
    "                # Naming scheme\n",
    "                idx = str(i)\n",
    "                idx = idx.zfill(5) \n",
    "                image_name = f\"{d}_{angle}_{idx}\"\n",
    "                \n",
    "                # Write img\n",
    "                cv2.imwrite(f\"{dest_img_path}/{image_name}.jpg\", image)\n",
    "                \n",
    "                images.append(dict(\n",
    "                    id=obj_count,\n",
    "                    file_name=f\"{image_name}.jpg\",\n",
    "                    height=height,\n",
    "                    width=width))\n",
    "                # write label\n",
    "                \n",
    "                label = [\"predator\", \"0\", x_min, y_min, x_max, y_max, width, height]\n",
    "                with open(f'{dest_label_path}/{image_name}.txt', 'w') as f:\n",
    "                    for item in label:\n",
    "                        f.write(\"%s \" % item)\n",
    "                \n",
    "                data_anno = dict(\n",
    "                    image_id=obj_count,\n",
    "                    id=obj_count,\n",
    "                    category_id=0,\n",
    "                    bbox=[x_min, y_min, x_max - x_min, y_max - y_min],\n",
    "                    area=(x_max - x_min) * (y_max - y_min),\n",
    "                    # segmentation=[],\n",
    "                    iscrowd=0)\n",
    "                annotations.append(data_anno)\n",
    "                \n",
    "                i+= 1\n",
    "                obj_count+= 1 \n",
    "    \n",
    "    coco_format_json = dict(\n",
    "        images=images,\n",
    "        annotations=annotations,\n",
    "        categories=[{'id':0, 'name': 'predator'}])\n",
    "    mmcv.dump(coco_format_json, out_file)"
   ]
  },
  {
   "cell_type": "code",
   "execution_count": 5,
   "metadata": {},
   "outputs": [
    {
     "name": "stderr",
     "output_type": "stream",
     "text": [
      "100% (15 of 15) |########################| Elapsed Time: 0:04:01 Time:  0:04:01\n",
      "100% (5 of 5) |##########################| Elapsed Time: 0:01:03 Time:  0:01:03\n",
      "100% (4 of 4) |##########################| Elapsed Time: 0:00:54 Time:  0:00:54\n"
     ]
    }
   ],
   "source": [
    "convert_fish_tracking_to_coco(train, origin_dir, destination_dir, \"train_coco.json\")\n",
    "convert_fish_tracking_to_coco(test, origin_dir, destination_dir, \"test_coco.json\")\n",
    "convert_fish_tracking_to_coco(val, origin_dir, destination_dir, \"val_coco.json\")"
   ]
  }
 ],
 "metadata": {
  "interpreter": {
   "hash": "94786822783e74b9855c6170cf43bb522c9afd9533ac6fefda5b6074988df35a"
  },
  "kernelspec": {
   "display_name": "Python 3.8.10 ('mmdetection')",
   "language": "python",
   "name": "python3"
  },
  "language_info": {
   "codemirror_mode": {
    "name": "ipython",
    "version": 3
   },
   "file_extension": ".py",
   "mimetype": "text/x-python",
   "name": "python",
   "nbconvert_exporter": "python",
   "pygments_lexer": "ipython3",
   "version": "3.8.10"
  },
  "orig_nbformat": 4
 },
 "nbformat": 4,
 "nbformat_minor": 2
}
